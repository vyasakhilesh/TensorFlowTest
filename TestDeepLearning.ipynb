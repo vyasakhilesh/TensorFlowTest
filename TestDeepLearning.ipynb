{
 "cells": [
  {
   "cell_type": "code",
   "execution_count": 1,
   "metadata": {},
   "outputs": [],
   "source": [
    "#MAthematical Operations Nodes\n",
    "#Edges : Multidimensional Arrays Tensor\n",
    "# Create Graph, Launch Session and then run it with Run and Eval operations\n",
    "\n"
   ]
  },
  {
   "cell_type": "code",
   "execution_count": 2,
   "metadata": {},
   "outputs": [],
   "source": [
    "import tensorflow as tf"
   ]
  },
  {
   "cell_type": "code",
   "execution_count": 3,
   "metadata": {},
   "outputs": [],
   "source": [
    "a = tf.constant([2])\n",
    "b = tf.constant([3])"
   ]
  },
  {
   "cell_type": "code",
   "execution_count": 4,
   "metadata": {},
   "outputs": [],
   "source": [
    "c = tf.add(a,b)"
   ]
  },
  {
   "cell_type": "code",
   "execution_count": 5,
   "metadata": {},
   "outputs": [],
   "source": [
    "session = tf.Session()"
   ]
  },
  {
   "cell_type": "code",
   "execution_count": 6,
   "metadata": {},
   "outputs": [
    {
     "name": "stdout",
     "output_type": "stream",
     "text": [
      "[5]\n"
     ]
    }
   ],
   "source": [
    "result = session.run(c)\n",
    "print result"
   ]
  },
  {
   "cell_type": "code",
   "execution_count": 7,
   "metadata": {},
   "outputs": [],
   "source": [
    "session.close()\n",
    "d = tf.multiply(a,b)"
   ]
  },
  {
   "cell_type": "code",
   "execution_count": 8,
   "metadata": {},
   "outputs": [
    {
     "name": "stdout",
     "output_type": "stream",
     "text": [
      "[6]\n"
     ]
    }
   ],
   "source": [
    "with tf.Session() as session:\n",
    "    result = session.run(d)\n",
    "    print result"
   ]
  },
  {
   "cell_type": "code",
   "execution_count": 9,
   "metadata": {},
   "outputs": [
    {
     "name": "stdout",
     "output_type": "stream",
     "text": [
      "[12]\n"
     ]
    }
   ],
   "source": [
    "with tf.device('/cpu:0'):\n",
    "    a1 = tf.constant([3])\n",
    "    b1 = tf.constant([9])\n",
    "c1 = tf.add(a1, b1)\n",
    "with tf.Session(config=tf.ConfigProto(log_device_placement=True)) as session1:\n",
    "    result1 = session1.run(c1)\n",
    "    print result1"
   ]
  },
  {
   "cell_type": "code",
   "execution_count": 10,
   "metadata": {},
   "outputs": [
    {
     "name": "stdout",
     "output_type": "stream",
     "text": [
      "[2]\n",
      "[2 3 4 5]\n",
      "[[1 2 3]\n",
      " [4 5 6]]\n",
      "[[[1 2 3 4]\n",
      "  [4 5 6 7]]\n",
      "\n",
      " [[5 6 7 8]\n",
      "  [1 2 3 4]]]\n"
     ]
    }
   ],
   "source": [
    "dz = tf.constant([2])\n",
    "d1 = tf.constant([2,3,4,5])\n",
    "d2 = tf.constant([[1,2,3], [4,5,6]])\n",
    "d3 = tf.constant([[[1,2,3,4],  [4,5,6,7]], [[5,6,7,8], [1,2,3,4]]])\n",
    "with tf.Session() as session:\n",
    "    print (session.run(dz))\n",
    "    print (session.run(d1))\n",
    "    print (session.run(d2))\n",
    "    print (session.run(d3))"
   ]
  },
  {
   "cell_type": "code",
   "execution_count": 11,
   "metadata": {},
   "outputs": [
    {
     "name": "stdout",
     "output_type": "stream",
     "text": [
      "WARNING:tensorflow:From /usr/local/lib/python2.7/dist-packages/tensorflow/python/util/tf_should_use.py:107: initialize_all_variables (from tensorflow.python.ops.variables) is deprecated and will be removed after 2017-03-02.\n",
      "Instructions for updating:\n",
      "Use `tf.global_variables_initializer` instead.\n",
      "0\n",
      "------\n",
      "1\n",
      "2\n",
      "3\n"
     ]
    }
   ],
   "source": [
    "state = tf.Variable(0) \n",
    "#o be able to use variables in a computation graph it is necessary to initialize them before running the graph in a session. \n",
    "#This is done by running tf.global_variables_initializer().\n",
    "one = tf.constant(1)\n",
    "new_value= tf.add(state, one)\n",
    "update = tf.assign(state, new_value)\n",
    "int_opt = tf.initialize_all_variables()\n",
    "with tf.Session() as session:\n",
    "    session.run(int_opt)\n",
    "    print session.run(state)\n",
    "    print \"------\"\n",
    "    for _ in range(3):\n",
    "        session.run(update)\n",
    "        print session.run(state)\n",
    "    \n",
    "    "
   ]
  },
  {
   "cell_type": "code",
   "execution_count": 12,
   "metadata": {},
   "outputs": [
    {
     "name": "stdout",
     "output_type": "stream",
     "text": [
      "[ 2.  4.  6.  8.]\n"
     ]
    }
   ],
   "source": [
    "plc1 = tf.placeholder(dtype=tf.float32, shape=[4]) # either Use shape=[None]\n",
    "plc2 = tf.placeholder(dtype=tf.float32, shape=[4])\n",
    "sumplc = tf.add(plc1, plc2)\n",
    "p1=[1,2,3,4]\n",
    "p2=[1,2,3,4]\n",
    "with tf.Session() as session:\n",
    "    print (session.run(sumplc, feed_dict={plc1:p1, plc2:p2}))"
   ]
  },
  {
   "cell_type": "code",
   "execution_count": 13,
   "metadata": {},
   "outputs": [
    {
     "name": "stdout",
     "output_type": "stream",
     "text": [
      "['asad']\n"
     ]
    }
   ],
   "source": [
    "a=tf.constant([\"asad\"])\n",
    "with tf.Session() as s:\n",
    "    print (s.run(a))"
   ]
  },
  {
   "cell_type": "code",
   "execution_count": 14,
   "metadata": {},
   "outputs": [],
   "source": [
    "import numpy as np\n",
    "import tensorflow as tf\n",
    "import matplotlib.patches as mpatches\n",
    "import matplotlib.pyplot as plt\n",
    "%matplotlib inline\n",
    "plt.rcParams['figure.figsize'] = (10, 6)"
   ]
  },
  {
   "cell_type": "code",
   "execution_count": 15,
   "metadata": {},
   "outputs": [],
   "source": [
    "#plt.plot([1,4],[1,6])\n",
    "#plt.show()"
   ]
  },
  {
   "cell_type": "code",
   "execution_count": 16,
   "metadata": {},
   "outputs": [
    {
     "data": {
      "text/plain": [
       "array([ 0. ,  0.1,  0.2,  0.3,  0.4,  0.5,  0.6,  0.7,  0.8,  0.9,  1. ,\n",
       "        1.1,  1.2,  1.3,  1.4,  1.5,  1.6,  1.7,  1.8,  1.9,  2. ,  2.1,\n",
       "        2.2,  2.3,  2.4,  2.5,  2.6,  2.7,  2.8,  2.9,  3. ,  3.1,  3.2,\n",
       "        3.3,  3.4,  3.5,  3.6,  3.7,  3.8,  3.9,  4. ,  4.1,  4.2,  4.3,\n",
       "        4.4,  4.5,  4.6,  4.7,  4.8,  4.9])"
      ]
     },
     "execution_count": 16,
     "metadata": {},
     "output_type": "execute_result"
    }
   ],
   "source": [
    "X = np.arange(0.0, 5.0, 0.1)\n",
    "X"
   ]
  },
  {
   "cell_type": "code",
   "execution_count": 17,
   "metadata": {},
   "outputs": [
    {
     "data": {
      "image/png": "[encoded data removed]",
      "text/plain": [
       "<matplotlib.figure.Figure at 0x7f14822131d0>"
      ]
     },
     "metadata": {},
     "output_type": "display_data"
    }
   ],
   "source": [
    "a=1\n",
    "b=0\n",
    "Y = a*X+b\n",
    "plt.plot(X,Y)\n",
    "plt.xlabel('independent Variable')\n",
    "plt.ylabel('dependent Variable')\n",
    "plt.show()"
   ]
  },
  {
   "cell_type": "code",
   "execution_count": 18,
   "metadata": {},
   "outputs": [],
   "source": [
    "x_data = np.random.rand(100).astype(np.float32)"
   ]
  },
  {
   "cell_type": "code",
   "execution_count": 19,
   "metadata": {},
   "outputs": [
    {
     "data": {
      "text/plain": [
       "array([ 4.73963928,  4.31938887,  2.88951635,  2.64356637,  2.40672541,\n",
       "        2.18378139,  3.73488259,  3.73812962,  4.93275928,  2.95897222,\n",
       "        4.10358047,  4.50098848,  2.76657248,  2.87594557,  3.99059916,\n",
       "        2.04603434,  4.89164352,  3.7813108 ,  3.08951759,  4.10473394,\n",
       "        3.48381567,  4.03683615,  4.28320456,  4.25288343,  2.96140194,\n",
       "        2.26598787,  2.46070361,  4.94179106,  4.2211647 ,  4.55783176,\n",
       "        4.88569069,  3.65510488,  4.19718409,  3.44932294,  2.20914555,\n",
       "        2.1099968 ,  3.05884719,  3.38774014,  4.16672707,  2.41164446,\n",
       "        3.76984429,  4.32976913,  3.13363004,  3.57963562,  4.9532342 ,\n",
       "        3.32461023,  2.15528989,  2.89603996,  2.32159019,  4.64020061,\n",
       "        4.71619415,  4.47191429,  3.12247777,  3.78312588,  2.42187691,\n",
       "        2.50702167,  3.08138204,  2.45607114,  3.80654478,  3.77576828,\n",
       "        4.77847052,  3.27575922,  2.94882345,  3.53967214,  2.48221469,\n",
       "        4.23591852,  2.9897635 ,  3.29264069,  3.58610296,  3.52752209,\n",
       "        2.6312871 ,  4.84939098,  3.28255296,  3.04105568,  2.24182463,\n",
       "        3.22717047,  2.1394105 ,  4.87136698,  4.23907185,  3.92279005,\n",
       "        2.37995195,  4.94693708,  2.56230426,  2.94267774,  4.43314028,\n",
       "        4.16581535,  3.15259767,  3.68798733,  3.77952385,  2.10709882,\n",
       "        4.96540451,  3.81809282,  4.43941975,  4.84961557,  4.32118893,\n",
       "        2.35850573,  4.98794842,  2.60677028,  2.73847175,  3.40767622], dtype=float32)"
      ]
     },
     "execution_count": 19,
     "metadata": {},
     "output_type": "execute_result"
    }
   ],
   "source": [
    "y_data = 3*x_data + 2\n",
    "y_data"
   ]
  },
  {
   "cell_type": "code",
   "execution_count": 20,
   "metadata": {},
   "outputs": [],
   "source": [
    "def myfunc(a, b):\n",
    "...     \"Return a-b if a>b, otherwise return a+b\"\n",
    "...     if a > b:\n",
    "...         return a - b\n",
    "...     else:\n",
    "...         return a + b\n",
    "\n",
    "vec = np.vectorize(myfunc)"
   ]
  },
  {
   "cell_type": "code",
   "execution_count": 21,
   "metadata": {},
   "outputs": [
    {
     "data": {
      "text/plain": [
       "array([2, 1, 2, 3])"
      ]
     },
     "execution_count": 21,
     "metadata": {},
     "output_type": "execute_result"
    }
   ],
   "source": [
    "vec([1,2,3,4],1)"
   ]
  },
  {
   "cell_type": "code",
   "execution_count": 22,
   "metadata": {},
   "outputs": [],
   "source": [
    "y_data = np.vectorize(lambda y: y + np.random.normal(loc=0.0, scale=0.1))(y_data)"
   ]
  },
  {
   "cell_type": "code",
   "execution_count": 23,
   "metadata": {},
   "outputs": [
    {
     "data": {
      "text/plain": [
       "[(0.91321307, 4.6597963275519669),\n",
       " (0.77312958, 4.3235912317672227),\n",
       " (0.29650542, 2.8019724076094548),\n",
       " (0.21452211, 2.6245232961433143),\n",
       " (0.13557518, 2.4739000545302723)]"
      ]
     },
     "execution_count": 23,
     "metadata": {},
     "output_type": "execute_result"
    }
   ],
   "source": [
    "zip(x_data, y_data)[0:5]"
   ]
  },
  {
   "cell_type": "code",
   "execution_count": 24,
   "metadata": {},
   "outputs": [],
   "source": [
    "a = tf.Variable(1.0)\n",
    "b= tf.Variable(0.2)\n",
    "y = a*x_data + b"
   ]
  },
  {
   "cell_type": "code",
   "execution_count": 25,
   "metadata": {},
   "outputs": [],
   "source": [
    "loss = tf.reduce_mean(tf.square(y - y_data)) # loss function"
   ]
  },
  {
   "cell_type": "code",
   "execution_count": 26,
   "metadata": {},
   "outputs": [
    {
     "data": {
      "text/plain": [
       "<tf.Operation 'GradientDescent' type=NoOp>"
      ]
     },
     "execution_count": 26,
     "metadata": {},
     "output_type": "execute_result"
    }
   ],
   "source": [
    "optimizer = tf.train.GradientDescentOptimizer(0.5)\n",
    "train = optimizer.minimize(loss) # how you want to minimize it \n",
    "train"
   ]
  },
  {
   "cell_type": "code",
   "execution_count": 27,
   "metadata": {},
   "outputs": [
    {
     "name": "stdout",
     "output_type": "stream",
     "text": [
      "None\n",
      "None\n"
     ]
    }
   ],
   "source": [
    "init = tf.global_variables_initializer()# use global varibale inatialiazer \n",
    "sess = tf.Session()\n",
    "print (sess.run(init))\n",
    "print (sess.run(train))\n"
   ]
  },
  {
   "cell_type": "code",
   "execution_count": 28,
   "metadata": {},
   "outputs": [
    {
     "name": "stdout",
     "output_type": "stream",
     "text": [
      "[2.2252524, 2.2049925]\n",
      "(0, [2.2252524, 2.2049925])\n",
      "[2.3908222, 2.4001746]\n",
      "[2.3999345, 2.315902]\n",
      "[2.4487972, 2.311264]\n",
      "[2.4831655, 2.2863936]\n",
      "[2.5183372, 2.2689006]\n",
      "(5, [2.5183372, 2.2689006])\n",
      "[2.5502803, 2.2509987]\n",
      "[2.5803168, 2.2347403]\n",
      "[2.6082675, 2.2194521]\n",
      "[2.6343582, 2.2052257]\n",
      "[2.65869, 2.191946]\n",
      "(10, [2.65869, 2.191946])\n",
      "[2.6813879, 2.1795614]\n",
      "[2.7025599, 2.1680086]\n",
      "[2.7223089, 2.1572323]\n",
      "[2.7407305, 2.1471803]\n",
      "[2.7579141, 2.137804]\n",
      "(15, [2.7579141, 2.137804])\n",
      "[2.7739425, 2.1290579]\n",
      "[2.7888937, 2.1208997]\n",
      "[2.80284, 2.1132896]\n",
      "[2.8158491, 2.1061912]\n",
      "[2.8279836, 2.0995698]\n",
      "(20, [2.8279836, 2.0995698])\n",
      "[2.8393025, 2.0933936]\n",
      "[2.8498607, 2.0876324]\n",
      "[2.8597093, 2.0822585]\n",
      "[2.8688958, 2.0772457]\n",
      "[2.877465, 2.0725698]\n",
      "(25, [2.877465, 2.0725698])\n",
      "[2.8854582, 2.0682082]\n",
      "[2.8929143, 2.0641398]\n",
      "[2.899869, 2.0603447]\n",
      "[2.9063563, 2.0568049]\n",
      "[2.9124076, 2.053503]\n",
      "(30, [2.9124076, 2.053503])\n",
      "[2.9180522, 2.0504229]\n",
      "[2.9233174, 2.04755]\n",
      "[2.9282289, 2.0448699]\n",
      "[2.9328101, 2.0423701]\n",
      "[2.9370835, 2.0400383]\n",
      "(35, [2.9370835, 2.0400383])\n",
      "[2.9410696, 2.0378633]\n",
      "[2.9447877, 2.0358343]\n",
      "[2.948256, 2.033942]\n",
      "[2.9514911, 2.0321767]\n",
      "[2.9545088, 2.03053]\n",
      "(40, [2.9545088, 2.03053])\n",
      "[2.9573238, 2.0289941]\n",
      "[2.9599495, 2.0275612]\n",
      "[2.9623988, 2.0262249]\n",
      "[2.9646833, 2.0249782]\n",
      "[2.9668145, 2.0238154]\n",
      "(45, [2.9668145, 2.0238154])\n",
      "[2.9688022, 2.0227306]\n",
      "[2.9706564, 2.021719]\n",
      "[2.9723859, 2.0207751]\n",
      "[2.9739993, 2.0198948]\n",
      "[2.9755042, 2.0190737]\n",
      "(50, [2.9755042, 2.0190737])\n",
      "[2.976908, 2.0183077]\n",
      "[2.9782174, 2.0175931]\n",
      "[2.9794388, 2.0169268]\n",
      "[2.9805782, 2.016305]\n",
      "[2.9816411, 2.0157251]\n",
      "(55, [2.9816411, 2.0157251])\n",
      "[2.9826324, 2.0151842]\n",
      "[2.983557, 2.0146797]\n",
      "[2.9844196, 2.014209]\n",
      "[2.985224, 2.0137699]\n",
      "[2.9859746, 2.0133605]\n",
      "(60, [2.9859746, 2.0133605])\n",
      "[2.9866745, 2.0129786]\n",
      "[2.9873276, 2.0126221]\n",
      "[2.9879367, 2.0122898]\n",
      "[2.9885049, 2.0119798]\n",
      "[2.9890349, 2.0116906]\n",
      "(65, [2.9890349, 2.0116906])\n",
      "[2.9895291, 2.0114207]\n",
      "[2.9899902, 2.0111692]\n",
      "[2.9904203, 2.0109346]\n",
      "[2.9908216, 2.0107157]\n",
      "[2.9911957, 2.0105114]\n",
      "(70, [2.9911957, 2.0105114])\n",
      "[2.9915447, 2.0103209]\n",
      "[2.9918704, 2.0101433]\n",
      "[2.9921741, 2.0099776]\n",
      "[2.9924574, 2.0098231]\n",
      "[2.9927218, 2.0096788]\n",
      "(75, [2.9927218, 2.0096788])\n",
      "[2.9929683, 2.0095441]\n",
      "[2.9931984, 2.0094187]\n",
      "[2.993413, 2.0093017]\n",
      "[2.993613, 2.0091925]\n",
      "[2.9937997, 2.0090907]\n",
      "(80, [2.9937997, 2.0090907])\n",
      "[2.9939737, 2.0089955]\n",
      "[2.9941361, 2.0089071]\n",
      "[2.9942875, 2.0088243]\n",
      "[2.9944289, 2.0087473]\n",
      "[2.9945607, 2.0086753]\n",
      "(85, [2.9945607, 2.0086753])\n",
      "[2.9946837, 2.0086083]\n",
      "[2.9947984, 2.0085456]\n",
      "[2.9949055, 2.0084872]\n",
      "[2.9950051, 2.0084329]\n",
      "[2.9950981, 2.0083821]\n",
      "(90, [2.9950981, 2.0083821])\n",
      "[2.9951849, 2.0083346]\n",
      "[2.995266, 2.0082905]\n",
      "[2.9953415, 2.0082493]\n",
      "[2.9954119, 2.0082109]\n",
      "[2.9954777, 2.0081751]\n",
      "(95, [2.9954777, 2.0081751])\n",
      "[2.9955389, 2.0081415]\n",
      "[2.9955962, 2.0081103]\n",
      "[2.9956496, 2.0080812]\n",
      "[2.9956994, 2.008054]\n"
     ]
    }
   ],
   "source": [
    "#we want to loop through our graph so that we make our prediction (i.e. compute  yi^yi^ )\n",
    "#calculate the loss, apply gradient descent, update the weights,\n",
    "#and do it all over again until we tell it to stop. It's really easy actually.\n",
    "\n",
    "train_data = []\n",
    "for step in range(100):\n",
    "    evals = sess.run([train,a,b])[1:] #session.run will do the computation for train, a and b.\n",
    "    print evals\n",
    "    if step % 5 == 0:\n",
    "        print(step, evals)\n",
    "        train_data.append(evals)\n",
    "    \n",
    "    "
   ]
  },
  {
   "cell_type": "code",
   "execution_count": 29,
   "metadata": {},
   "outputs": [
    {
     "name": "stdout",
     "output_type": "stream",
     "text": [
      "[[2.2252524, 2.2049925], [2.5183372, 2.2689006], [2.65869, 2.191946], [2.7579141, 2.137804], [2.8279836, 2.0995698], [2.877465, 2.0725698], [2.9124076, 2.053503], [2.9370835, 2.0400383], [2.9545088, 2.03053], [2.9668145, 2.0238154], [2.9755042, 2.0190737], [2.9816411, 2.0157251], [2.9859746, 2.0133605], [2.9890349, 2.0116906], [2.9911957, 2.0105114], [2.9927218, 2.0096788], [2.9937997, 2.0090907], [2.9945607, 2.0086753], [2.9950981, 2.0083821], [2.9954777, 2.0081751]]\n"
     ]
    },
    {
     "data": {
      "image/png": "[encoded data removed]",
      "text/plain": [
       "<matplotlib.figure.Figure at 0x7f14801ceb10>"
      ]
     },
     "metadata": {},
     "output_type": "display_data"
    }
   ],
   "source": [
    "converter = plt.colors\n",
    "cr, cg, cb = (1.0, 1.0, 0.0)\n",
    "print train_data\n",
    "for f in train_data:\n",
    "    cb += 1.0 / len(train_data)\n",
    "    cg -= 1.0 / len(train_data)\n",
    "    if cb > 1.0: cb = 1.0\n",
    "    if cg < 0.0: cg = 0.0\n",
    "    [a, b] = f\n",
    "    f_y = np.vectorize(lambda x: a*x + b)(x_data)\n",
    "    #print f_y\n",
    "    line = plt.plot(x_data, f_y)\n",
    "    plt.setp(line, color=(cr,cg,cb))\n",
    "\n",
    "plt.plot(x_data, y_data, 'ro')\n",
    "\n",
    "\n",
    "#green_line = mpatches.Patch(color='red', label='Data Points')\n",
    "\n",
    "#plt.legend(handles=[green_line])\n",
    "\n",
    "plt.show()"
   ]
  },
  {
   "cell_type": "code",
   "execution_count": 30,
   "metadata": {},
   "outputs": [
    {
     "data": {
      "text/plain": [
       "[None]"
      ]
     },
     "execution_count": 30,
     "metadata": {},
     "output_type": "execute_result"
    },
    {
     "data": {
      "image/png": "[encoded data removed]",
      "text/plain": [
       "<matplotlib.figure.Figure at 0x7f14801ce4d0>"
      ]
     },
     "metadata": {},
     "output_type": "display_data"
    }
   ],
   "source": [
    "line1 = plt.plot([1,2,3,4], [5,6,7,8])\n",
    "plt.setp(line1, color=(0.0,0.0,1.0))"
   ]
  },
  {
   "cell_type": "code",
   "execution_count": 31,
   "metadata": {},
   "outputs": [
    {
     "data": {
      "image/png": "[encoded data removed]",
      "text/plain": [
       "<matplotlib.figure.Figure at 0x7f14801ce110>"
      ]
     },
     "metadata": {},
     "output_type": "display_data"
    }
   ],
   "source": [
    "plt.plot([-1, 1, 2.5, 3], [1, 2, 4, 10], color='red')\n",
    "\n",
    "plt.show()"
   ]
  },
  {
   "cell_type": "code",
   "execution_count": 32,
   "metadata": {},
   "outputs": [
    {
     "name": "stderr",
     "output_type": "stream",
     "text": [
      "/usr/local/lib/python2.7/dist-packages/sklearn/cross_validation.py:41: DeprecationWarning: This module was deprecated in version 0.18 in favor of the model_selection module into which all the refactored classes and functions are moved. Also note that the interface of the new CV iterators are different from that of this module. This module will be removed in 0.20.\n",
      "  \"This module will be removed in 0.20.\", DeprecationWarning)\n"
     ]
    }
   ],
   "source": [
    "import tensorflow as tf\n",
    "import pandas as pd\n",
    "import numpy as np\n",
    "import time\n",
    "from sklearn.datasets import load_iris\n",
    "from sklearn.cross_validation import train_test_split\n",
    "import matplotlib.pyplot as plt"
   ]
  },
  {
   "cell_type": "code",
   "execution_count": 33,
   "metadata": {},
   "outputs": [],
   "source": [
    "iris = load_iris()\n",
    "iris_X, iris_y = iris.data[:-1,:], iris.target[:-1]\n",
    "iris_y= pd.get_dummies(iris_y).values\n",
    "trainX, testX, trainY, testY = train_test_split(iris_X, iris_y, test_size=0.33, random_state=42)"
   ]
  },
  {
   "cell_type": "code",
   "execution_count": 34,
   "metadata": {},
   "outputs": [
    {
     "name": "stdout",
     "output_type": "stream",
     "text": [
      "[array([2, 1]), array([2, 0]), array([ True, False], dtype=bool), array([ 1.,  0.], dtype=float32), 0.5]\n"
     ]
    }
   ],
   "source": [
    "x = tf.argmax([[0.1, 0.2, 0.3], [0.2, 0.3, 0.1]],1)\n",
    "y = tf.argmax([[0,0,1], [1,0,0]],1)\n",
    "z= tf.equal(x,y)\n",
    "c= tf.cast(z, \"float\")\n",
    "l = tf.reduce_mean(c)\n",
    "with tf.Session() as s:\n",
    "    print (s.run([x, y, z, c, l]))"
   ]
  },
  {
   "cell_type": "code",
   "execution_count": 35,
   "metadata": {},
   "outputs": [
    {
     "name": "stdout",
     "output_type": "stream",
     "text": [
      "[-1  0  1]\n",
      "---------------------\n",
      "[-2 -1  0  1]\n",
      "---------------------\n",
      "[[-1  0  1]\n",
      " [-1  0  1]\n",
      " [-1  0  1]\n",
      " [-1  0  1]]\n",
      "---------------------\n",
      "[[-2 -2 -2]\n",
      " [-1 -1 -1]\n",
      " [ 0  0  0]\n",
      " [ 1  1  1]]\n",
      "---------------------\n"
     ]
    }
   ],
   "source": [
    "ws = np.arange(-1, 2, 1)\n",
    "bs = np.arange(-2, 2, 1)\n",
    "\n",
    "X, Y = np.meshgrid(ws, bs)\n",
    "print ws\n",
    "print \"---------------------\"\n",
    "print bs\n",
    "print \"---------------------\"\n",
    "print X\n",
    "print \"---------------------\"\n",
    "print Y\n",
    "print \"---------------------\""
   ]
  },
  {
   "cell_type": "code",
   "execution_count": 36,
   "metadata": {},
   "outputs": [],
   "source": [
    "def func(x): return x\n",
    "#tf.matmul will multiply the input(i) tensor and the weight(w) tensor then sum the result with the bias(b) tensor.\n",
    "act = func(5)\n",
    "#plot_act(1, tf.tanh)\n",
    "#plot_act(1, func)"
   ]
  },
  {
   "cell_type": "code",
   "execution_count": 63,
   "metadata": {},
   "outputs": [
    {
     "name": "stdout",
     "output_type": "stream",
     "text": [
      "1\n",
      "3\n"
     ]
    }
   ],
   "source": [
    "#act = func(tf.matmul(i, w) + b)\n",
    "#Evaluate the tensor to a numpy array\n",
    "#act.eval(session=sess)\n",
    "\n",
    "x = tf.Variable(0)\n",
    "y = tf.constant(1)\n",
    "z= x + y\n",
    "int_opt = tf.global_variables_initializer()\n",
    "with tf.Session() as s:\n",
    "    s.run(int_opt)\n",
    "    print s.run(z)\n",
    "    s.run(tf.assign(x, 2))\n",
    "    print s.run(z)"
   ]
  },
  {
   "cell_type": "code",
   "execution_count": null,
   "metadata": {},
   "outputs": [],
   "source": []
  },
  {
   "cell_type": "code",
   "execution_count": 65,
   "metadata": {},
   "outputs": [
    {
     "data": {
      "text/plain": [
       "[0, 1, 1, 2, 3, 5, 8, 13, 21, 34, 55, 89, 144, 233, 377]"
      ]
     },
     "execution_count": 65,
     "metadata": {},
     "output_type": "execute_result"
    }
   ],
   "source": [
    "#fibonacci Series\n",
    "f= [tf.constant(0), tf.constant(1)]\n",
    "with tf.Session() as s:\n",
    "    for i in range(2,15):\n",
    "        temp = f[i-2]+f[i-1]\n",
    "        f.append(temp)\n",
    "s.run(f)"
   ]
  }
 ],
 "metadata": {
  "kernelspec": {
   "display_name": "Python 2",
   "language": "python",
   "name": "python2"
  },
  "language_info": {
   "codemirror_mode": {
    "name": "ipython",
    "version": 2
   },
   "file_extension": ".py",
   "mimetype": "text/x-python",
   "name": "python",
   "nbconvert_exporter": "python",
   "pygments_lexer": "ipython2",
   "version": "2.7.13"
  }
 },
 "nbformat": 4,
 "nbformat_minor": 2
}
