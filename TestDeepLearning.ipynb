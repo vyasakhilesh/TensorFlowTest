{
 "cells": [
  {
   "cell_type": "code",
   "execution_count": 1,
   "metadata": {},
   "outputs": [],
   "source": [
    "#MAthematical Operations Nodes\n",
    "#Edges : Multidimensional Arrays Tensor\n",
    "# Create Graph, Launch Session and then run it with Run and Eval operations\n",
    "\n"
   ]
  },
  {
   "cell_type": "code",
   "execution_count": 2,
   "metadata": {},
   "outputs": [],
   "source": [
    "import tensorflow as tf"
   ]
  },
  {
   "cell_type": "code",
   "execution_count": 3,
   "metadata": {},
   "outputs": [],
   "source": [
    "a = tf.constant([2])\n",
    "b = tf.constant([3])"
   ]
  },
  {
   "cell_type": "code",
   "execution_count": 4,
   "metadata": {},
   "outputs": [],
   "source": [
    "c = tf.add(a,b)"
   ]
  },
  {
   "cell_type": "code",
   "execution_count": 5,
   "metadata": {},
   "outputs": [],
   "source": [
    "session = tf.Session()"
   ]
  },
  {
   "cell_type": "code",
   "execution_count": 6,
   "metadata": {},
   "outputs": [
    {
     "name": "stdout",
     "output_type": "stream",
     "text": [
      "[5]\n"
     ]
    }
   ],
   "source": [
    "result = session.run(c)\n",
    "print result"
   ]
  },
  {
   "cell_type": "code",
   "execution_count": 7,
   "metadata": {},
   "outputs": [],
   "source": [
    "session.close()\n",
    "d = tf.multiply(a,b)"
   ]
  },
  {
   "cell_type": "code",
   "execution_count": 8,
   "metadata": {},
   "outputs": [
    {
     "name": "stdout",
     "output_type": "stream",
     "text": [
      "[6]\n"
     ]
    }
   ],
   "source": [
    "with tf.Session() as session:\n",
    "    result = session.run(d)\n",
    "    print result"
   ]
  },
  {
   "cell_type": "code",
   "execution_count": 9,
   "metadata": {},
   "outputs": [
    {
     "name": "stdout",
     "output_type": "stream",
     "text": [
      "[12]\n"
     ]
    }
   ],
   "source": [
    "with tf.device('/cpu:0'):\n",
    "    a1 = tf.constant([3])\n",
    "    b1 = tf.constant([9])\n",
    "c1 = tf.add(a1, b1)\n",
    "with tf.Session(config=tf.ConfigProto(log_device_placement=True)) as session1:\n",
    "    result1 = session1.run(c1)\n",
    "    print result1"
   ]
  },
  {
   "cell_type": "code",
   "execution_count": 10,
   "metadata": {},
   "outputs": [
    {
     "name": "stdout",
     "output_type": "stream",
     "text": [
      "[2]\n",
      "[2 3 4 5]\n",
      "[[1 2 3]\n",
      " [4 5 6]]\n",
      "[[[1 2 3 4]\n",
      "  [4 5 6 7]]\n",
      "\n",
      " [[5 6 7 8]\n",
      "  [1 2 3 4]]]\n"
     ]
    }
   ],
   "source": [
    "dz = tf.constant([2])\n",
    "d1 = tf.constant([2,3,4,5])\n",
    "d2 = tf.constant([[1,2,3], [4,5,6]])\n",
    "d3 = tf.constant([[[1,2,3,4],  [4,5,6,7]], [[5,6,7,8], [1,2,3,4]]])\n",
    "with tf.Session() as session:\n",
    "    print (session.run(dz))\n",
    "    print (session.run(d1))\n",
    "    print (session.run(d2))\n",
    "    print (session.run(d3))"
   ]
  },
  {
   "cell_type": "code",
   "execution_count": 11,
   "metadata": {},
   "outputs": [
    {
     "name": "stdout",
     "output_type": "stream",
     "text": [
      "WARNING:tensorflow:From /usr/local/lib/python2.7/dist-packages/tensorflow/python/util/tf_should_use.py:107: initialize_all_variables (from tensorflow.python.ops.variables) is deprecated and will be removed after 2017-03-02.\n",
      "Instructions for updating:\n",
      "Use `tf.global_variables_initializer` instead.\n",
      "0\n",
      "------\n",
      "1\n",
      "2\n",
      "3\n"
     ]
    }
   ],
   "source": [
    "state = tf.Variable(0) \n",
    "#o be able to use variables in a computation graph it is necessary to initialize them before running the graph in a session. \n",
    "#This is done by running tf.global_variables_initializer().\n",
    "one = tf.constant(1)\n",
    "new_value= tf.add(state, one)\n",
    "update = tf.assign(state, new_value)\n",
    "int_opt = tf.initialize_all_variables()\n",
    "with tf.Session() as session:\n",
    "    session.run(int_opt)\n",
    "    print session.run(state)\n",
    "    print \"------\"\n",
    "    for _ in range(3):\n",
    "        session.run(update)\n",
    "        print session.run(state)\n",
    "    \n",
    "    "
   ]
  },
  {
   "cell_type": "code",
   "execution_count": 12,
   "metadata": {},
   "outputs": [
    {
     "name": "stdout",
     "output_type": "stream",
     "text": [
      "[ 2.  4.  6.  8.]\n"
     ]
    }
   ],
   "source": [
    "plc1 = tf.placeholder(dtype=tf.float32, shape=[4]) # either Use shape=[None]\n",
    "plc2 = tf.placeholder(dtype=tf.float32, shape=[4])\n",
    "sumplc = tf.add(plc1, plc2)\n",
    "p1=[1,2,3,4]\n",
    "p2=[1,2,3,4]\n",
    "with tf.Session() as session:\n",
    "    print (session.run(sumplc, feed_dict={plc1:p1, plc2:p2}))"
   ]
  },
  {
   "cell_type": "code",
   "execution_count": 13,
   "metadata": {},
   "outputs": [
    {
     "name": "stdout",
     "output_type": "stream",
     "text": [
      "['asad']\n"
     ]
    }
   ],
   "source": [
    "a=tf.constant([\"asad\"])\n",
    "with tf.Session() as s:\n",
    "    print (s.run(a))"
   ]
  },
  {
   "cell_type": "code",
   "execution_count": 14,
   "metadata": {},
   "outputs": [],
   "source": [
    "import numpy as np\n",
    "import tensorflow as tf\n",
    "import matplotlib.patches as mpatches\n",
    "import matplotlib.pyplot as plt\n",
    "%matplotlib inline\n",
    "plt.rcParams['figure.figsize'] = (10, 6)"
   ]
  },
  {
   "cell_type": "code",
   "execution_count": 15,
   "metadata": {},
   "outputs": [],
   "source": [
    "#plt.plot([1,4],[1,6])\n",
    "#plt.show()"
   ]
  },
  {
   "cell_type": "code",
   "execution_count": 16,
   "metadata": {},
   "outputs": [
    {
     "data": {
      "text/plain": [
       "array([ 0. ,  0.1,  0.2,  0.3,  0.4,  0.5,  0.6,  0.7,  0.8,  0.9,  1. ,\n",
       "        1.1,  1.2,  1.3,  1.4,  1.5,  1.6,  1.7,  1.8,  1.9,  2. ,  2.1,\n",
       "        2.2,  2.3,  2.4,  2.5,  2.6,  2.7,  2.8,  2.9,  3. ,  3.1,  3.2,\n",
       "        3.3,  3.4,  3.5,  3.6,  3.7,  3.8,  3.9,  4. ,  4.1,  4.2,  4.3,\n",
       "        4.4,  4.5,  4.6,  4.7,  4.8,  4.9])"
      ]
     },
     "execution_count": 16,
     "metadata": {},
     "output_type": "execute_result"
    }
   ],
   "source": [
    "X = np.arange(0.0, 5.0, 0.1)\n",
    "X"
   ]
  },
  {
   "cell_type": "code",
   "execution_count": 17,
   "metadata": {},
   "outputs": [
    {
     "data": {
      "image/png": "[encoded data removed]",
      "text/plain": [
       "<matplotlib.figure.Figure at 0x7f81badaa1d0>"
      ]
     },
     "metadata": {},
     "output_type": "display_data"
    }
   ],
   "source": [
    "a=1\n",
    "b=0\n",
    "Y = a*X+b\n",
    "plt.plot(X,Y)\n",
    "plt.xlabel('independent Variable')\n",
    "plt.ylabel('dependent Variable')\n",
    "plt.show()"
   ]
  },
  {
   "cell_type": "code",
   "execution_count": 18,
   "metadata": {},
   "outputs": [],
   "source": [
    "x_data = np.random.rand(100).astype(np.float32)"
   ]
  },
  {
   "cell_type": "code",
   "execution_count": 19,
   "metadata": {},
   "outputs": [
    {
     "data": {
      "text/plain": [
       "array([ 4.91222572,  2.15119815,  3.03729796,  2.89412642,  3.45819521,\n",
       "        4.83427572,  2.0508666 ,  4.83529472,  3.52770996,  4.43476868,\n",
       "        2.4194243 ,  3.31258965,  2.12000704,  4.36624193,  3.49893045,\n",
       "        3.37850189,  4.62946701,  2.14474297,  2.53279948,  4.01150799,\n",
       "        4.11697149,  4.5215416 ,  4.39993286,  3.470788  ,  3.70548916,\n",
       "        4.45018482,  4.74765968,  4.08585644,  4.47078228,  3.59524536,\n",
       "        4.9914465 ,  4.02527189,  3.40767288,  4.75739479,  4.47890615,\n",
       "        2.19433403,  3.52867389,  3.24173307,  2.37164736,  3.12404299,\n",
       "        4.30720091,  3.60477734,  2.14964724,  2.80776262,  3.75149632,\n",
       "        4.01670361,  3.45436811,  4.65947819,  3.56283855,  4.3317275 ,\n",
       "        4.19676733,  2.53782606,  3.85796022,  2.72645903,  2.82380605,\n",
       "        4.77133179,  4.41528749,  4.53827906,  4.54632711,  2.31176829,\n",
       "        2.82361364,  2.66834664,  4.43431854,  3.2212429 ,  3.22169137,\n",
       "        2.20478988,  2.77564478,  4.76608181,  4.52075863,  3.00273514,\n",
       "        4.06919098,  2.72672009,  2.75558591,  2.86074591,  2.93032837,\n",
       "        2.28581333,  2.96895409,  2.05495596,  4.80423927,  3.0216198 ,\n",
       "        2.07797194,  4.48308516,  4.05814219,  3.73628521,  4.55942249,\n",
       "        4.66175222,  3.69155908,  2.10872746,  3.06599855,  2.20037889,\n",
       "        3.06508589,  3.56750751,  3.86343646,  3.60525775,  4.06927681,\n",
       "        4.81880474,  2.20840812,  4.21737099,  2.30242085,  3.81015491], dtype=float32)"
      ]
     },
     "execution_count": 19,
     "metadata": {},
     "output_type": "execute_result"
    }
   ],
   "source": [
    "y_data = 3*x_data + 2\n",
    "y_data"
   ]
  },
  {
   "cell_type": "code",
   "execution_count": 20,
   "metadata": {},
   "outputs": [],
   "source": [
    "def myfunc(a, b):\n",
    "...     \"Return a-b if a>b, otherwise return a+b\"\n",
    "...     if a > b:\n",
    "...         return a - b\n",
    "...     else:\n",
    "...         return a + b\n",
    "\n",
    "vec = np.vectorize(myfunc)"
   ]
  },
  {
   "cell_type": "code",
   "execution_count": 21,
   "metadata": {},
   "outputs": [
    {
     "data": {
      "text/plain": [
       "array([2, 1, 2, 3])"
      ]
     },
     "execution_count": 21,
     "metadata": {},
     "output_type": "execute_result"
    }
   ],
   "source": [
    "vec([1,2,3,4],1)"
   ]
  },
  {
   "cell_type": "code",
   "execution_count": 22,
   "metadata": {},
   "outputs": [],
   "source": [
    "y_data = np.vectorize(lambda y: y + np.random.normal(loc=0.0, scale=0.1))(y_data)"
   ]
  },
  {
   "cell_type": "code",
   "execution_count": 23,
   "metadata": {},
   "outputs": [
    {
     "data": {
      "text/plain": [
       "[(0.97074199, 4.9469843057952785),\n",
       " (0.050399385, 2.0511361715832326),\n",
       " (0.34576601, 3.0445972166586817),\n",
       " (0.29804212, 2.7301123910221943),\n",
       " (0.48606503, 3.5479349448533601)]"
      ]
     },
     "execution_count": 23,
     "metadata": {},
     "output_type": "execute_result"
    }
   ],
   "source": [
    "zip(x_data, y_data)[0:5]"
   ]
  },
  {
   "cell_type": "code",
   "execution_count": 24,
   "metadata": {},
   "outputs": [],
   "source": [
    "a = tf.Variable(1.0)\n",
    "b= tf.Variable(0.2)\n",
    "y = a*x_data + b"
   ]
  },
  {
   "cell_type": "code",
   "execution_count": 25,
   "metadata": {},
   "outputs": [],
   "source": [
    "loss = tf.reduce_mean(tf.square(y - y_data)) # loss function"
   ]
  },
  {
   "cell_type": "code",
   "execution_count": 26,
   "metadata": {},
   "outputs": [
    {
     "data": {
      "text/plain": [
       "<tf.Operation 'GradientDescent' type=NoOp>"
      ]
     },
     "execution_count": 26,
     "metadata": {},
     "output_type": "execute_result"
    }
   ],
   "source": [
    "optimizer = tf.train.GradientDescentOptimizer(0.5)\n",
    "train = optimizer.minimize(loss) # how you want to minimize it \n",
    "train"
   ]
  },
  {
   "cell_type": "code",
   "execution_count": 27,
   "metadata": {},
   "outputs": [
    {
     "name": "stdout",
     "output_type": "stream",
     "text": [
      "None\n",
      "None\n"
     ]
    }
   ],
   "source": [
    "init = tf.global_variables_initializer()# use global varibale inatialiazer \n",
    "sess = tf.Session()\n",
    "print (sess.run(init))\n",
    "print (sess.run(train))\n"
   ]
  },
  {
   "cell_type": "code",
   "execution_count": 28,
   "metadata": {},
   "outputs": [
    {
     "name": "stdout",
     "output_type": "stream",
     "text": [
      "[2.2347529, 2.1823902]\n",
      "(0, [2.2347529, 2.1823902])\n",
      "[2.4092517, 2.3819265]\n",
      "[2.4202993, 2.2924109]\n",
      "[2.4733994, 2.2867436]\n",
      "[2.5108166, 2.2595041]\n",
      "[2.5491076, 2.2403095]\n",
      "(5, [2.5491076, 2.2403095])\n",
      "[2.5838394, 2.2206666]\n",
      "[2.6164882, 2.2028499]\n",
      "[2.6468465, 2.1861014]\n",
      "[2.6751683, 2.1705279]\n",
      "[2.7015636, 2.1559992]\n",
      "(10, [2.7015636, 2.1559992])\n",
      "[2.726171, 2.1424589]\n",
      "[2.7491095, 2.1298356]\n",
      "[2.7704928, 2.1180685]\n",
      "[2.7904263, 2.1070991]\n",
      "[2.8090081, 2.0968735]\n",
      "(15, [2.8090081, 2.0968735])\n",
      "[2.8263302, 2.0873413]\n",
      "[2.8424776, 2.0784552]\n",
      "[2.8575304, 2.0701718]\n",
      "[2.8715625, 2.0624499]\n",
      "[2.8846431, 2.0552516]\n",
      "(20, [2.8846431, 2.0552516])\n",
      "[2.896837, 2.0485415]\n",
      "[2.9082038, 2.0422862]\n",
      "[2.9188001, 2.0364552]\n",
      "[2.928678, 2.0310194]\n",
      "[2.937886, 2.0259521]\n",
      "(25, [2.937886, 2.0259521])\n",
      "[2.9464698, 2.0212286]\n",
      "[2.9544716, 2.0168252]\n",
      "[2.9619308, 2.0127203]\n",
      "[2.9688842, 2.008894]\n",
      "[2.9753661, 2.005327]\n",
      "(30, [2.9753661, 2.005327])\n",
      "[2.9814086, 2.0020018]\n",
      "[2.9870415, 1.9989021]\n",
      "[2.9922924, 1.9960126]\n",
      "[2.9971871, 1.9933189]\n",
      "[3.0017502, 1.9908079]\n",
      "(35, [3.0017502, 1.9908079])\n",
      "[3.0060039, 1.9884671]\n",
      "[3.009969, 1.9862851]\n",
      "[3.0136654, 1.984251]\n",
      "[3.0171111, 1.9823548]\n",
      "[3.0203233, 1.9805872]\n",
      "(40, [3.0203233, 1.9805872])\n",
      "[3.0233176, 1.9789394]\n",
      "[3.0261087, 1.9774034]\n",
      "[3.0287108, 1.9759716]\n",
      "[3.0311363, 1.9746367]\n",
      "[3.0333974, 1.9733925]\n",
      "(45, [3.0333974, 1.9733925])\n",
      "[3.0355053, 1.9722325]\n",
      "[3.0374703, 1.9711512]\n",
      "[3.0393019, 1.9701432]\n",
      "[3.0410094, 1.9692036]\n",
      "[3.0426011, 1.9683276]\n",
      "(50, [3.0426011, 1.9683276])\n",
      "[3.044085, 1.9675112]\n",
      "[3.0454681, 1.9667499]\n",
      "[3.0467575, 1.9660405]\n",
      "[3.0479593, 1.965379]\n",
      "[3.0490799, 1.9647624]\n",
      "(55, [3.0490799, 1.9647624])\n",
      "[3.0501244, 1.9641876]\n",
      "[3.0510981, 1.9636518]\n",
      "[3.0520058, 1.9631523]\n",
      "[3.0528519, 1.9626867]\n",
      "[3.0536406, 1.9622526]\n",
      "(60, [3.0536406, 1.9622526])\n",
      "[3.0543759, 1.961848]\n",
      "[3.0550613, 1.9614708]\n",
      "[3.0557003, 1.9611193]\n",
      "[3.0562959, 1.9607915]\n",
      "[3.0568511, 1.9604859]\n",
      "(65, [3.0568511, 1.9604859])\n",
      "[3.0573688, 1.960201]\n",
      "[3.0578513, 1.9599355]\n",
      "[3.0583012, 1.9596879]\n",
      "[3.0587206, 1.9594572]\n",
      "[3.0591114, 1.9592421]\n",
      "(70, [3.0591114, 1.9592421])\n",
      "[3.0594757, 1.9590416]\n",
      "[3.0598154, 1.9588548]\n",
      "[3.060132, 1.9586805]\n",
      "[3.0604272, 1.958518]\n",
      "[3.0607023, 1.9583666]\n",
      "(75, [3.0607023, 1.9583666])\n",
      "[3.0609589, 1.9582255]\n",
      "[3.061198, 1.9580939]\n",
      "[3.0614209, 1.9579712]\n",
      "[3.0616286, 1.9578569]\n",
      "[3.0618222, 1.9577503]\n",
      "(80, [3.0618222, 1.9577503])\n",
      "[3.0620027, 1.957651]\n",
      "[3.062171, 1.9575584]\n",
      "[3.0623279, 1.9574721]\n",
      "[3.0624743, 1.9573916]\n",
      "[3.0626106, 1.9573165]\n",
      "(85, [3.0626106, 1.9573165])\n",
      "[3.0627377, 1.9572465]\n",
      "[3.0628562, 1.9571813]\n",
      "[3.0629666, 1.9571205]\n",
      "[3.0630696, 1.9570639]\n",
      "[3.0631657, 1.9570111]\n",
      "(90, [3.0631657, 1.9570111])\n",
      "[3.0632551, 1.9569619]\n",
      "[3.0633385, 1.956916]\n",
      "[3.0634162, 1.9568732]\n",
      "[3.0634887, 1.9568332]\n",
      "[3.0635562, 1.9567961]\n",
      "(95, [3.0635562, 1.9567961])\n",
      "[3.0636191, 1.9567615]\n",
      "[3.0636778, 1.9567292]\n",
      "[3.0637326, 1.9566991]\n",
      "[3.0637836, 1.956671]\n"
     ]
    }
   ],
   "source": [
    "#we want to loop through our graph so that we make our prediction (i.e. compute  yi^yi^ )\n",
    "#calculate the loss, apply gradient descent, update the weights,\n",
    "#and do it all over again until we tell it to stop. It's really easy actually.\n",
    "\n",
    "train_data = []\n",
    "for step in range(100):\n",
    "    evals = sess.run([train,a,b])[1:] #session.run will do the computation for train, a and b.\n",
    "    print evals\n",
    "    if step % 5 == 0:\n",
    "        print(step, evals)\n",
    "        train_data.append(evals)\n",
    "    \n",
    "    "
   ]
  },
  {
   "cell_type": "code",
   "execution_count": 29,
   "metadata": {},
   "outputs": [
    {
     "name": "stdout",
     "output_type": "stream",
     "text": [
      "[[2.2347529, 2.1823902], [2.5491076, 2.2403095], [2.7015636, 2.1559992], [2.8090081, 2.0968735], [2.8846431, 2.0552516], [2.937886, 2.0259521], [2.9753661, 2.005327], [3.0017502, 1.9908079], [3.0203233, 1.9805872], [3.0333974, 1.9733925], [3.0426011, 1.9683276], [3.0490799, 1.9647624], [3.0536406, 1.9622526], [3.0568511, 1.9604859], [3.0591114, 1.9592421], [3.0607023, 1.9583666], [3.0618222, 1.9577503], [3.0626106, 1.9573165], [3.0631657, 1.9570111], [3.0635562, 1.9567961]]\n"
     ]
    },
    {
     "data": {
      "image/png": "[encoded data removed]",
      "text/plain": [
       "<matplotlib.figure.Figure at 0x7f81b8d71fd0>"
      ]
     },
     "metadata": {},
     "output_type": "display_data"
    }
   ],
   "source": [
    "converter = plt.colors\n",
    "cr, cg, cb = (1.0, 1.0, 0.0)\n",
    "print train_data\n",
    "for f in train_data:\n",
    "    cb += 1.0 / len(train_data)\n",
    "    cg -= 1.0 / len(train_data)\n",
    "    if cb > 1.0: cb = 1.0\n",
    "    if cg < 0.0: cg = 0.0\n",
    "    [a, b] = f\n",
    "    f_y = np.vectorize(lambda x: a*x + b)(x_data)\n",
    "    #print f_y\n",
    "    line = plt.plot(x_data, f_y)\n",
    "    plt.setp(line, color=(cr,cg,cb))\n",
    "\n",
    "plt.plot(x_data, y_data, 'ro')\n",
    "\n",
    "\n",
    "#green_line = mpatches.Patch(color='red', label='Data Points')\n",
    "\n",
    "#plt.legend(handles=[green_line])\n",
    "\n",
    "plt.show()"
   ]
  },
  {
   "cell_type": "code",
   "execution_count": 30,
   "metadata": {},
   "outputs": [
    {
     "data": {
      "text/plain": [
       "[None]"
      ]
     },
     "execution_count": 30,
     "metadata": {},
     "output_type": "execute_result"
    },
    {
     "data": {
      "image/png": "[encoded data removed]",
      "text/plain": [
       "<matplotlib.figure.Figure at 0x7f81b8d71790>"
      ]
     },
     "metadata": {},
     "output_type": "display_data"
    }
   ],
   "source": [
    "line1 = plt.plot([1,2,3,4], [5,6,7,8])\n",
    "plt.setp(line1, color=(0.0,0.0,1.0))"
   ]
  },
  {
   "cell_type": "code",
   "execution_count": 31,
   "metadata": {},
   "outputs": [
    {
     "data": {
      "image/png": "[encoded data removed]",
      "text/plain": [
       "<matplotlib.figure.Figure at 0x7f81b8d71a90>"
      ]
     },
     "metadata": {},
     "output_type": "display_data"
    }
   ],
   "source": [
    "plt.plot([-1, 1, 2.5, 3], [1, 2, 4, 10], color='red')\n",
    "\n",
    "plt.show()"
   ]
  },
  {
   "cell_type": "code",
   "execution_count": 32,
   "metadata": {},
   "outputs": [
    {
     "name": "stderr",
     "output_type": "stream",
     "text": [
      "/usr/local/lib/python2.7/dist-packages/sklearn/cross_validation.py:41: DeprecationWarning: This module was deprecated in version 0.18 in favor of the model_selection module into which all the refactored classes and functions are moved. Also note that the interface of the new CV iterators are different from that of this module. This module will be removed in 0.20.\n",
      "  \"This module will be removed in 0.20.\", DeprecationWarning)\n"
     ]
    }
   ],
   "source": [
    "import tensorflow as tf\n",
    "import pandas as pd\n",
    "import numpy as np\n",
    "import time\n",
    "from sklearn.datasets import load_iris\n",
    "from sklearn.cross_validation import train_test_split\n",
    "import matplotlib.pyplot as plt"
   ]
  },
  {
   "cell_type": "code",
   "execution_count": 33,
   "metadata": {},
   "outputs": [],
   "source": [
    "iris = load_iris()\n",
    "iris_X, iris_y = iris.data[:-1,:], iris.target[:-1]\n",
    "iris_y= pd.get_dummies(iris_y).values\n",
    "trainX, testX, trainY, testY = train_test_split(iris_X, iris_y, test_size=0.33, random_state=42)"
   ]
  },
  {
   "cell_type": "code",
   "execution_count": 34,
   "metadata": {},
   "outputs": [
    {
     "name": "stdout",
     "output_type": "stream",
     "text": [
      "[array([2, 1]), array([2, 0]), array([ True, False], dtype=bool), array([ 1.,  0.], dtype=float32), 0.5]\n"
     ]
    }
   ],
   "source": [
    "x = tf.argmax([[0.1, 0.2, 0.3], [0.2, 0.3, 0.1]],1)\n",
    "y = tf.argmax([[0,0,1], [1,0,0]],1)\n",
    "z= tf.equal(x,y)\n",
    "c= tf.cast(z, \"float\")\n",
    "l = tf.reduce_mean(c)\n",
    "with tf.Session() as s:\n",
    "    print (s.run([x, y, z, c, l]))"
   ]
  },
  {
   "cell_type": "code",
   "execution_count": 35,
   "metadata": {},
   "outputs": [
    {
     "name": "stdout",
     "output_type": "stream",
     "text": [
      "[-1  0  1]\n",
      "---------------------\n",
      "[-2 -1  0  1]\n",
      "---------------------\n",
      "[[-1  0  1]\n",
      " [-1  0  1]\n",
      " [-1  0  1]\n",
      " [-1  0  1]]\n",
      "---------------------\n",
      "[[-2 -2 -2]\n",
      " [-1 -1 -1]\n",
      " [ 0  0  0]\n",
      " [ 1  1  1]]\n",
      "---------------------\n"
     ]
    }
   ],
   "source": [
    "ws = np.arange(-1, 2, 1)\n",
    "bs = np.arange(-2, 2, 1)\n",
    "\n",
    "X, Y = np.meshgrid(ws, bs)\n",
    "print ws\n",
    "print \"---------------------\"\n",
    "print bs\n",
    "print \"---------------------\"\n",
    "print X\n",
    "print \"---------------------\"\n",
    "print Y\n",
    "print \"---------------------\""
   ]
  },
  {
   "cell_type": "code",
   "execution_count": 36,
   "metadata": {},
   "outputs": [],
   "source": [
    "def func(x): return x\n",
    "#tf.matmul will multiply the input(i) tensor and the weight(w) tensor then sum the result with the bias(b) tensor.\n",
    "act = func(5)\n",
    "#plot_act(1, tf.tanh)\n",
    "#plot_act(1, func)"
   ]
  },
  {
   "cell_type": "code",
   "execution_count": 37,
   "metadata": {},
   "outputs": [
    {
     "name": "stdout",
     "output_type": "stream",
     "text": [
      "1\n",
      "3\n"
     ]
    }
   ],
   "source": [
    "#act = func(tf.matmul(i, w) + b)\n",
    "#Evaluate the tensor to a numpy array\n",
    "#act.eval(session=sess)\n",
    "\n",
    "x = tf.Variable(0)\n",
    "y = tf.constant(1)\n",
    "z= x + y\n",
    "int_opt = tf.global_variables_initializer()\n",
    "with tf.Session() as s:\n",
    "    s.run(int_opt)\n",
    "    print s.run(z)\n",
    "    s.run(tf.assign(x, 2))\n",
    "    print s.run(z)"
   ]
  },
  {
   "cell_type": "code",
   "execution_count": null,
   "metadata": {},
   "outputs": [],
   "source": []
  },
  {
   "cell_type": "code",
   "execution_count": 38,
   "metadata": {},
   "outputs": [
    {
     "data": {
      "text/plain": [
       "[0, 1, 1, 2, 3, 5, 8, 13, 21, 34, 55, 89, 144, 233, 377]"
      ]
     },
     "execution_count": 38,
     "metadata": {},
     "output_type": "execute_result"
    }
   ],
   "source": [
    "#fibonacci Series\n",
    "f= [tf.constant(0), tf.constant(1)]\n",
    "with tf.Session() as s:\n",
    "    for i in range(2,15):\n",
    "        temp = f[i-2]+f[i-1]\n",
    "        f.append(temp)\n",
    "s.run(f)"
   ]
  }
 ],
 "metadata": {
  "kernelspec": {
   "display_name": "Python 2",
   "language": "python",
   "name": "python2"
  },
  "language_info": {
   "codemirror_mode": {
    "name": "ipython",
    "version": 2
   },
   "file_extension": ".py",
   "mimetype": "text/x-python",
   "name": "python",
   "nbconvert_exporter": "python",
   "pygments_lexer": "ipython2",
   "version": "2.7.13"
  }
 },
 "nbformat": 4,
 "nbformat_minor": 2
}
