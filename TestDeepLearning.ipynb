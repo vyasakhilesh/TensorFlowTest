{
 "cells": [
  {
   "cell_type": "code",
   "execution_count": 1,
   "metadata": {},
   "outputs": [],
   "source": [
    "#MAthematical Operations Nodes\n",
    "#Edges : Multidimensional Arrays Tensor\n",
    "# Create Graph, Launch Session and then run it with Run and Eval operations\n",
    "\n"
   ]
  },
  {
   "cell_type": "code",
   "execution_count": 2,
   "metadata": {},
   "outputs": [],
   "source": [
    "import tensorflow as tf"
   ]
  },
  {
   "cell_type": "code",
   "execution_count": 3,
   "metadata": {},
   "outputs": [],
   "source": [
    "a = tf.constant([2])\n",
    "b = tf.constant([3])"
   ]
  },
  {
   "cell_type": "code",
   "execution_count": 4,
   "metadata": {},
   "outputs": [],
   "source": [
    "c = tf.add(a,b)"
   ]
  },
  {
   "cell_type": "code",
   "execution_count": 5,
   "metadata": {},
   "outputs": [],
   "source": [
    "session = tf.Session()"
   ]
  },
  {
   "cell_type": "code",
   "execution_count": 6,
   "metadata": {},
   "outputs": [
    {
     "name": "stdout",
     "output_type": "stream",
     "text": [
      "[5]\n"
     ]
    }
   ],
   "source": [
    "result = session.run(c)\n",
    "print result"
   ]
  },
  {
   "cell_type": "code",
   "execution_count": 7,
   "metadata": {},
   "outputs": [],
   "source": [
    "session.close()\n",
    "d = tf.multiply(a,b)"
   ]
  },
  {
   "cell_type": "code",
   "execution_count": 8,
   "metadata": {},
   "outputs": [
    {
     "name": "stdout",
     "output_type": "stream",
     "text": [
      "[6]\n"
     ]
    }
   ],
   "source": [
    "with tf.Session() as session:\n",
    "    result = session.run(d)\n",
    "    print result"
   ]
  },
  {
   "cell_type": "code",
   "execution_count": 9,
   "metadata": {},
   "outputs": [
    {
     "name": "stdout",
     "output_type": "stream",
     "text": [
      "[12]\n"
     ]
    }
   ],
   "source": [
    "with tf.device('/cpu:0'):\n",
    "    a1 = tf.constant([3])\n",
    "    b1 = tf.constant([9])\n",
    "c1 = tf.add(a1, b1)\n",
    "with tf.Session(config=tf.ConfigProto(log_device_placement=True)) as session1:\n",
    "    result1 = session1.run(c1)\n",
    "    print result1"
   ]
  },
  {
   "cell_type": "code",
   "execution_count": 10,
   "metadata": {},
   "outputs": [
    {
     "name": "stdout",
     "output_type": "stream",
     "text": [
      "[2]\n",
      "[2 3 4 5]\n",
      "[[1 2 3]\n",
      " [4 5 6]]\n",
      "[[[1 2 3 4]\n",
      "  [4 5 6 7]]\n",
      "\n",
      " [[5 6 7 8]\n",
      "  [1 2 3 4]]]\n"
     ]
    }
   ],
   "source": [
    "dz = tf.constant([2])\n",
    "d1 = tf.constant([2,3,4,5])\n",
    "d2 = tf.constant([[1,2,3], [4,5,6]])\n",
    "d3 = tf.constant([[[1,2,3,4],  [4,5,6,7]], [[5,6,7,8], [1,2,3,4]]])\n",
    "with tf.Session() as session:\n",
    "    print (session.run(dz))\n",
    "    print (session.run(d1))\n",
    "    print (session.run(d2))\n",
    "    print (session.run(d3))"
   ]
  },
  {
   "cell_type": "code",
   "execution_count": 11,
   "metadata": {},
   "outputs": [
    {
     "name": "stdout",
     "output_type": "stream",
     "text": [
      "WARNING:tensorflow:From /usr/local/lib/python2.7/dist-packages/tensorflow/python/util/tf_should_use.py:107: initialize_all_variables (from tensorflow.python.ops.variables) is deprecated and will be removed after 2017-03-02.\n",
      "Instructions for updating:\n",
      "Use `tf.global_variables_initializer` instead.\n",
      "0\n",
      "------\n",
      "1\n",
      "2\n",
      "3\n"
     ]
    }
   ],
   "source": [
    "state = tf.Variable(0) \n",
    "#o be able to use variables in a computation graph it is necessary to initialize them before running the graph in a session. \n",
    "#This is done by running tf.global_variables_initializer().\n",
    "one = tf.constant(1)\n",
    "new_value= tf.add(state, one)\n",
    "update = tf.assign(state, new_value)\n",
    "int_opt = tf.initialize_all_variables()\n",
    "with tf.Session() as session:\n",
    "    session.run(int_opt)\n",
    "    print session.run(state)\n",
    "    print \"------\"\n",
    "    for _ in range(3):\n",
    "        session.run(update)\n",
    "        print session.run(state)\n",
    "    \n",
    "    "
   ]
  },
  {
   "cell_type": "code",
   "execution_count": 12,
   "metadata": {},
   "outputs": [
    {
     "name": "stdout",
     "output_type": "stream",
     "text": [
      "[ 2.  4.  6.  8.]\n"
     ]
    }
   ],
   "source": [
    "plc1 = tf.placeholder(dtype=tf.float32, shape=[4]) # either Use shape=[None]\n",
    "plc2 = tf.placeholder(dtype=tf.float32, shape=[4])\n",
    "sumplc = tf.add(plc1, plc2)\n",
    "p1=[1,2,3,4]\n",
    "p2=[1,2,3,4]\n",
    "with tf.Session() as session:\n",
    "    print (session.run(sumplc, feed_dict={plc1:p1, plc2:p2}))"
   ]
  },
  {
   "cell_type": "code",
   "execution_count": 13,
   "metadata": {},
   "outputs": [
    {
     "name": "stdout",
     "output_type": "stream",
     "text": [
      "['asad']\n"
     ]
    }
   ],
   "source": [
    "a=tf.constant([\"asad\"])\n",
    "with tf.Session() as s:\n",
    "    print (s.run(a))"
   ]
  },
  {
   "cell_type": "code",
   "execution_count": 14,
   "metadata": {},
   "outputs": [],
   "source": [
    "import numpy as np\n",
    "import tensorflow as tf\n",
    "import matplotlib.patches as mpatches\n",
    "import matplotlib.pyplot as plt\n",
    "%matplotlib inline\n",
    "plt.rcParams['figure.figsize'] = (10, 6)"
   ]
  },
  {
   "cell_type": "code",
   "execution_count": 15,
   "metadata": {},
   "outputs": [],
   "source": [
    "#plt.plot([1,4],[1,6])\n",
    "#plt.show()"
   ]
  },
  {
   "cell_type": "code",
   "execution_count": 16,
   "metadata": {},
   "outputs": [
    {
     "data": {
      "text/plain": [
       "array([ 0. ,  0.1,  0.2,  0.3,  0.4,  0.5,  0.6,  0.7,  0.8,  0.9,  1. ,\n",
       "        1.1,  1.2,  1.3,  1.4,  1.5,  1.6,  1.7,  1.8,  1.9,  2. ,  2.1,\n",
       "        2.2,  2.3,  2.4,  2.5,  2.6,  2.7,  2.8,  2.9,  3. ,  3.1,  3.2,\n",
       "        3.3,  3.4,  3.5,  3.6,  3.7,  3.8,  3.9,  4. ,  4.1,  4.2,  4.3,\n",
       "        4.4,  4.5,  4.6,  4.7,  4.8,  4.9])"
      ]
     },
     "execution_count": 16,
     "metadata": {},
     "output_type": "execute_result"
    }
   ],
   "source": [
    "X = np.arange(0.0, 5.0, 0.1)\n",
    "X"
   ]
  },
  {
   "cell_type": "code",
   "execution_count": 17,
   "metadata": {},
   "outputs": [
    {
     "data": {
      "image/png": "[encoded data removed]",
      "text/plain": [
       "<matplotlib.figure.Figure at 0x7f47643f51d0>"
      ]
     },
     "metadata": {},
     "output_type": "display_data"
    }
   ],
   "source": [
    "a=1\n",
    "b=0\n",
    "Y = a*X+b\n",
    "plt.plot(X,Y)\n",
    "plt.xlabel('independent Variable')\n",
    "plt.ylabel('dependent Variable')\n",
    "plt.show()"
   ]
  },
  {
   "cell_type": "code",
   "execution_count": 18,
   "metadata": {},
   "outputs": [],
   "source": [
    "x_data = np.random.rand(100).astype(np.float32)"
   ]
  },
  {
   "cell_type": "code",
   "execution_count": 19,
   "metadata": {},
   "outputs": [
    {
     "data": {
      "text/plain": [
       "array([ 3.03733134,  2.79695892,  4.92878628,  3.58683062,  3.91475201,\n",
       "        4.5419817 ,  2.5069015 ,  3.00370574,  2.78391314,  4.40442419,\n",
       "        4.13866854,  3.29322529,  3.70748973,  4.93302917,  3.7607646 ,\n",
       "        4.06954765,  4.23494339,  4.71862507,  4.36603451,  4.38076258,\n",
       "        4.89174318,  2.20947742,  2.80634475,  2.37298608,  2.43349648,\n",
       "        2.02600622,  4.86515474,  4.64034557,  4.23006916,  2.15020347,\n",
       "        3.2454958 ,  3.60489798,  3.12960863,  4.26169109,  2.86688566,\n",
       "        3.55490136,  3.85044098,  3.75571775,  4.23659086,  2.18329549,\n",
       "        4.21071434,  4.8440361 ,  3.01398277,  3.89983845,  3.23886204,\n",
       "        4.36383152,  4.66282654,  2.29597545,  3.40186596,  3.89031744,\n",
       "        3.92756271,  2.24641848,  4.9184227 ,  4.39103651,  2.53383732,\n",
       "        3.70236397,  3.54878259,  3.24519563,  4.94222975,  2.3190403 ,\n",
       "        2.79492092,  2.41973901,  2.56105471,  3.17079806,  3.331635  ,\n",
       "        3.98142052,  3.21883345,  4.50420094,  2.29113317,  3.94368982,\n",
       "        2.27463293,  4.40268517,  3.49644685,  2.1218698 ,  2.80694818,\n",
       "        2.3605597 ,  3.32169008,  2.64613819,  4.57578754,  2.79220104,\n",
       "        3.93018198,  2.92137289,  2.87225056,  4.04799128,  4.60061693,\n",
       "        4.14622402,  4.57797003,  4.88926601,  4.91998816,  2.01606941,\n",
       "        4.74035883,  4.5917778 ,  4.81802511,  2.10072923,  4.99652624,\n",
       "        4.48496771,  4.27524042,  4.11777163,  4.82209349,  3.74072623], dtype=float32)"
      ]
     },
     "execution_count": 19,
     "metadata": {},
     "output_type": "execute_result"
    }
   ],
   "source": [
    "y_data = 3*x_data + 2\n",
    "y_data"
   ]
  },
  {
   "cell_type": "code",
   "execution_count": 20,
   "metadata": {},
   "outputs": [],
   "source": [
    "def myfunc(a, b):\n",
    "...     \"Return a-b if a>b, otherwise return a+b\"\n",
    "...     if a > b:\n",
    "...         return a - b\n",
    "...     else:\n",
    "...         return a + b\n",
    "\n",
    "vec = np.vectorize(myfunc)"
   ]
  },
  {
   "cell_type": "code",
   "execution_count": 21,
   "metadata": {},
   "outputs": [
    {
     "data": {
      "text/plain": [
       "array([2, 1, 2, 3])"
      ]
     },
     "execution_count": 21,
     "metadata": {},
     "output_type": "execute_result"
    }
   ],
   "source": [
    "vec([1,2,3,4],1)"
   ]
  },
  {
   "cell_type": "code",
   "execution_count": 22,
   "metadata": {},
   "outputs": [],
   "source": [
    "y_data = np.vectorize(lambda y: y + np.random.normal(loc=0.0, scale=0.1))(y_data)"
   ]
  },
  {
   "cell_type": "code",
   "execution_count": 23,
   "metadata": {},
   "outputs": [
    {
     "data": {
      "text/plain": [
       "[(0.34577712, 3.0295014621129739),\n",
       " (0.26565301, 2.7946811365676147),\n",
       " (0.97626209, 5.0426614117069537),\n",
       " (0.52894354, 3.5293925287436205),\n",
       " (0.63825071, 3.8008274816029082)]"
      ]
     },
     "execution_count": 23,
     "metadata": {},
     "output_type": "execute_result"
    }
   ],
   "source": [
    "zip(x_data, y_data)[0:5]"
   ]
  },
  {
   "cell_type": "code",
   "execution_count": 24,
   "metadata": {},
   "outputs": [],
   "source": [
    "a = tf.Variable(1.0)\n",
    "b= tf.Variable(0.2)\n",
    "y = a*x_data + b"
   ]
  },
  {
   "cell_type": "code",
   "execution_count": 25,
   "metadata": {},
   "outputs": [],
   "source": [
    "loss = tf.reduce_mean(tf.square(y - y_data)) # loss function"
   ]
  },
  {
   "cell_type": "code",
   "execution_count": 26,
   "metadata": {},
   "outputs": [
    {
     "data": {
      "text/plain": [
       "<tf.Operation 'GradientDescent' type=NoOp>"
      ]
     },
     "execution_count": 26,
     "metadata": {},
     "output_type": "execute_result"
    }
   ],
   "source": [
    "optimizer = tf.train.GradientDescentOptimizer(0.5)\n",
    "train = optimizer.minimize(loss) # how you want to minimize it \n",
    "train"
   ]
  },
  {
   "cell_type": "code",
   "execution_count": 27,
   "metadata": {},
   "outputs": [
    {
     "name": "stdout",
     "output_type": "stream",
     "text": [
      "None\n",
      "None\n"
     ]
    }
   ],
   "source": [
    "init = tf.global_variables_initializer()# use global varibale inatialiazer \n",
    "sess = tf.Session()\n",
    "print (sess.run(init))\n",
    "print (sess.run(train))\n"
   ]
  },
  {
   "cell_type": "code",
   "execution_count": 28,
   "metadata": {},
   "outputs": [
    {
     "name": "stdout",
     "output_type": "stream",
     "text": [
      "[2.2549262, 2.1334467]\n",
      "(0, [2.2549262, 2.1334467])\n",
      "[2.466928, 2.3979433]\n",
      "[2.4540114, 2.2830045]\n",
      "[2.5083766, 2.2900074]\n",
      "[2.5380404, 2.2605329]\n",
      "[2.5722778, 2.2444503]\n",
      "(5, [2.5722778, 2.2444503])\n",
      "[2.6020694, 2.225888]\n",
      "[2.6304691, 2.2097363]\n",
      "[2.6567054, 2.1943393]\n",
      "[2.681201, 2.180115]\n",
      "[2.7039893, 2.1668344]\n",
      "(10, [2.7039893, 2.1668344])\n",
      "[2.7252152, 2.1544795]\n",
      "[2.7449775, 2.1429718]\n",
      "[2.7633798, 2.1322575]\n",
      "[2.780515, 2.1222804]\n",
      "[2.7964704, 2.1129904]\n",
      "(15, [2.7964704, 2.1129904])\n",
      "[2.8113272, 2.1043401]\n",
      "[2.8251612, 2.0962853]\n",
      "[2.8380425, 2.0887852]\n",
      "[2.8500371, 2.0818014]\n",
      "[2.8612058, 2.0752985]\n",
      "(20, [2.8612058, 2.0752985])\n",
      "[2.8716054, 2.0692432]\n",
      "[2.8812892, 2.0636051]\n",
      "[2.890306, 2.0583549]\n",
      "[2.8987021, 2.0534663]\n",
      "[2.9065201, 2.0489142]\n",
      "(25, [2.9065201, 2.0489142])\n",
      "[2.9138, 2.0446756]\n",
      "[2.9205785, 2.0407288]\n",
      "[2.9268904, 2.0370538]\n",
      "[2.9327676, 2.0336318]\n",
      "[2.9382403, 2.0304453]\n",
      "(30, [2.9382403, 2.0304453])\n",
      "[2.943336, 2.0274782]\n",
      "[2.948081, 2.0247157]\n",
      "[2.9524992, 2.0221431]\n",
      "[2.9566133, 2.0197477]\n",
      "[2.960444, 2.0175171]\n",
      "(35, [2.960444, 2.0175171])\n",
      "[2.9640112, 2.0154402]\n",
      "[2.9673326, 2.0135064]\n",
      "[2.9704254, 2.0117056]\n",
      "[2.9733052, 2.0100288]\n",
      "[2.9759867, 2.0084674]\n",
      "(40, [2.9759867, 2.0084674])\n",
      "[2.9784837, 2.0070136]\n",
      "[2.9808087, 2.0056601]\n",
      "[2.9829736, 2.0043993]\n",
      "[2.9849894, 2.0032258]\n",
      "[2.9868665, 2.0021329]\n",
      "(45, [2.9868665, 2.0021329])\n",
      "[2.9886143, 2.0011151]\n",
      "[2.9902418, 2.0001676]\n",
      "[2.9917572, 1.9992852]\n",
      "[2.9931684, 1.9984636]\n",
      "[2.9944823, 1.9976985]\n",
      "(50, [2.9944823, 1.9976985])\n",
      "[2.9957058, 1.9969862]\n",
      "[2.996845, 1.9963228]\n",
      "[2.9979057, 1.9957051]\n",
      "[2.9988935, 1.9951301]\n",
      "[2.9998133, 1.9945946]\n",
      "(55, [2.9998133, 1.9945946])\n",
      "[3.0006697, 1.9940959]\n",
      "[3.0014672, 1.9936316]\n",
      "[3.0022097, 1.9931992]\n",
      "[3.0029011, 1.9927967]\n",
      "[3.003545, 1.9924219]\n",
      "(60, [3.003545, 1.9924219])\n",
      "[3.0041444, 1.9920727]\n",
      "[3.0047026, 1.9917477]\n",
      "[3.0052223, 1.9914452]\n",
      "[3.0057063, 1.9911634]\n",
      "[3.0061569, 1.990901]\n",
      "(65, [3.0061569, 1.990901])\n",
      "[3.0065765, 1.9906566]\n",
      "[3.0069673, 1.9904292]\n",
      "[3.0073311, 1.9902173]\n",
      "[3.0076699, 1.99002]\n",
      "[3.0079854, 1.9898363]\n",
      "(70, [3.0079854, 1.9898363])\n",
      "[3.0082791, 1.9896654]\n",
      "[3.0085526, 1.9895061]\n",
      "[3.0088072, 1.9893578]\n",
      "[3.0090444, 1.9892198]\n",
      "[3.0092652, 1.9890912]\n",
      "(75, [3.0092652, 1.9890912])\n",
      "[3.0094709, 1.9889715]\n",
      "[3.0096624, 1.9888599]\n",
      "[3.0098407, 1.9887562]\n",
      "[3.0100067, 1.9886594]\n",
      "[3.0101614, 1.9885695]\n",
      "(80, [3.0101614, 1.9885695])\n",
      "[3.0103052, 1.9884856]\n",
      "[3.0104392, 1.9884076]\n",
      "[3.0105641, 1.988335]\n",
      "[3.0106802, 1.9882673]\n",
      "[3.0107884, 1.9882042]\n",
      "(85, [3.0107884, 1.9882042])\n",
      "[3.0108893, 1.9881456]\n",
      "[3.0109832, 1.988091]\n",
      "[3.0110705, 1.98804]\n",
      "[3.0111518, 1.9879928]\n",
      "[3.0112276, 1.9879487]\n",
      "(90, [3.0112276, 1.9879487])\n",
      "[3.0112982, 1.9879075]\n",
      "[3.0113637, 1.9878693]\n",
      "[3.011425, 1.9878337]\n",
      "[3.011482, 1.9878005]\n",
      "[3.0115349, 1.9877696]\n",
      "(95, [3.0115349, 1.9877696])\n",
      "[3.0115843, 1.9877409]\n",
      "[3.0116303, 1.9877142]\n",
      "[3.011673, 1.9876891]\n",
      "[3.011713, 1.987666]\n"
     ]
    }
   ],
   "source": [
    "#we want to loop through our graph so that we make our prediction (i.e. compute  yi^yi^ )\n",
    "#calculate the loss, apply gradient descent, update the weights,\n",
    "#and do it all over again until we tell it to stop. It's really easy actually.\n",
    "\n",
    "train_data = []\n",
    "for step in range(100):\n",
    "    evals = sess.run([train,a,b])[1:] #session.run will do the computation for train, a and b.\n",
    "    print evals\n",
    "    if step % 5 == 0:\n",
    "        print(step, evals)\n",
    "        train_data.append(evals)\n",
    "    \n",
    "    "
   ]
  },
  {
   "cell_type": "code",
   "execution_count": 29,
   "metadata": {},
   "outputs": [
    {
     "name": "stdout",
     "output_type": "stream",
     "text": [
      "[[2.2549262, 2.1334467], [2.5722778, 2.2444503], [2.7039893, 2.1668344], [2.7964704, 2.1129904], [2.8612058, 2.0752985], [2.9065201, 2.0489142], [2.9382403, 2.0304453], [2.960444, 2.0175171], [2.9759867, 2.0084674], [2.9868665, 2.0021329], [2.9944823, 1.9976985], [2.9998133, 1.9945946], [3.003545, 1.9924219], [3.0061569, 1.990901], [3.0079854, 1.9898363], [3.0092652, 1.9890912], [3.0101614, 1.9885695], [3.0107884, 1.9882042], [3.0112276, 1.9879487], [3.0115349, 1.9877696]]\n"
     ]
    },
    {
     "data": {
      "image/png": "[encoded data removed]",
      "text/plain": [
       "<matplotlib.figure.Figure at 0x7f47643b3a50>"
      ]
     },
     "metadata": {},
     "output_type": "display_data"
    }
   ],
   "source": [
    "converter = plt.colors\n",
    "cr, cg, cb = (1.0, 1.0, 0.0)\n",
    "print train_data\n",
    "for f in train_data:\n",
    "    cb += 1.0 / len(train_data)\n",
    "    cg -= 1.0 / len(train_data)\n",
    "    if cb > 1.0: cb = 1.0\n",
    "    if cg < 0.0: cg = 0.0\n",
    "    [a, b] = f\n",
    "    f_y = np.vectorize(lambda x: a*x + b)(x_data)\n",
    "    #print f_y\n",
    "    line = plt.plot(x_data, f_y)\n",
    "    plt.setp(line, color=(cr,cg,cb))\n",
    "\n",
    "plt.plot(x_data, y_data, 'ro')\n",
    "\n",
    "\n",
    "#green_line = mpatches.Patch(color='red', label='Data Points')\n",
    "\n",
    "#plt.legend(handles=[green_line])\n",
    "\n",
    "plt.show()"
   ]
  },
  {
   "cell_type": "code",
   "execution_count": 30,
   "metadata": {},
   "outputs": [
    {
     "data": {
      "text/plain": [
       "[None]"
      ]
     },
     "execution_count": 30,
     "metadata": {},
     "output_type": "execute_result"
    },
    {
     "data": {
      "image/png": "[encoded data removed]",
      "text/plain": [
       "<matplotlib.figure.Figure at 0x7f47643b3dd0>"
      ]
     },
     "metadata": {},
     "output_type": "display_data"
    }
   ],
   "source": [
    "line1 = plt.plot([1,2,3,4], [5,6,7,8])\n",
    "plt.setp(line1, color=(0.0,0.0,1.0))"
   ]
  },
  {
   "cell_type": "code",
   "execution_count": 31,
   "metadata": {},
   "outputs": [
    {
     "data": {
      "image/png": "[encoded data removed]",
      "text/plain": [
       "<matplotlib.figure.Figure at 0x7f47643b3e90>"
      ]
     },
     "metadata": {},
     "output_type": "display_data"
    }
   ],
   "source": [
    "plt.plot([-1, 1, 2.5, 3], [1, 2, 4, 10], color='red')\n",
    "\n",
    "plt.show()"
   ]
  },
  {
   "cell_type": "code",
   "execution_count": 32,
   "metadata": {},
   "outputs": [
    {
     "name": "stderr",
     "output_type": "stream",
     "text": [
      "/usr/local/lib/python2.7/dist-packages/sklearn/cross_validation.py:41: DeprecationWarning: This module was deprecated in version 0.18 in favor of the model_selection module into which all the refactored classes and functions are moved. Also note that the interface of the new CV iterators are different from that of this module. This module will be removed in 0.20.\n",
      "  \"This module will be removed in 0.20.\", DeprecationWarning)\n"
     ]
    }
   ],
   "source": [
    "import tensorflow as tf\n",
    "import pandas as pd\n",
    "import numpy as np\n",
    "import time\n",
    "from sklearn.datasets import load_iris\n",
    "from sklearn.cross_validation import train_test_split\n",
    "import matplotlib.pyplot as plt"
   ]
  },
  {
   "cell_type": "code",
   "execution_count": 33,
   "metadata": {},
   "outputs": [],
   "source": [
    "iris = load_iris()\n",
    "iris_X, iris_y = iris.data[:-1,:], iris.target[:-1]\n",
    "iris_y= pd.get_dummies(iris_y).values\n",
    "trainX, testX, trainY, testY = train_test_split(iris_X, iris_y, test_size=0.33, random_state=42)"
   ]
  },
  {
   "cell_type": "code",
   "execution_count": 34,
   "metadata": {},
   "outputs": [
    {
     "name": "stdout",
     "output_type": "stream",
     "text": [
      "[array([2, 1]), array([2, 0]), array([ True, False], dtype=bool), array([ 1.,  0.], dtype=float32), 0.5]\n"
     ]
    }
   ],
   "source": [
    "x = tf.argmax([[0.1, 0.2, 0.3], [0.2, 0.3, 0.1]],1)\n",
    "y = tf.argmax([[0,0,1], [1,0,0]],1)\n",
    "z= tf.equal(x,y)\n",
    "c= tf.cast(z, \"float\")\n",
    "l = tf.reduce_mean(c)\n",
    "with tf.Session() as s:\n",
    "    print (s.run([x, y, z, c, l]))"
   ]
  },
  {
   "cell_type": "code",
   "execution_count": 35,
   "metadata": {},
   "outputs": [
    {
     "name": "stdout",
     "output_type": "stream",
     "text": [
      "[-1  0  1]\n",
      "---------------------\n",
      "[-2 -1  0  1]\n",
      "---------------------\n",
      "[[-1  0  1]\n",
      " [-1  0  1]\n",
      " [-1  0  1]\n",
      " [-1  0  1]]\n",
      "---------------------\n",
      "[[-2 -2 -2]\n",
      " [-1 -1 -1]\n",
      " [ 0  0  0]\n",
      " [ 1  1  1]]\n",
      "---------------------\n"
     ]
    }
   ],
   "source": [
    "ws = np.arange(-1, 2, 1)\n",
    "bs = np.arange(-2, 2, 1)\n",
    "\n",
    "X, Y = np.meshgrid(ws, bs)\n",
    "print ws\n",
    "print \"---------------------\"\n",
    "print bs\n",
    "print \"---------------------\"\n",
    "print X\n",
    "print \"---------------------\"\n",
    "print Y\n",
    "print \"---------------------\""
   ]
  },
  {
   "cell_type": "code",
   "execution_count": 36,
   "metadata": {},
   "outputs": [],
   "source": [
    "def func(x): return x\n",
    "#tf.matmul will multiply the input(i) tensor and the weight(w) tensor then sum the result with the bias(b) tensor.\n",
    "act = func(5)\n",
    "#plot_act(1, tf.tanh)\n",
    "#plot_act(1, func)"
   ]
  },
  {
   "cell_type": "code",
   "execution_count": 37,
   "metadata": {},
   "outputs": [
    {
     "name": "stdout",
     "output_type": "stream",
     "text": [
      "1\n",
      "3\n"
     ]
    }
   ],
   "source": [
    "#act = func(tf.matmul(i, w) + b)\n",
    "#Evaluate the tensor to a numpy array\n",
    "#act.eval(session=sess)\n",
    "\n",
    "x = tf.Variable(0)\n",
    "y = tf.constant(1)\n",
    "z= x + y\n",
    "int_opt = tf.global_variables_initializer()\n",
    "with tf.Session() as s:\n",
    "    s.run(int_opt)\n",
    "    print s.run(z)\n",
    "    s.run(tf.assign(x, 2))\n",
    "    print s.run(z)"
   ]
  },
  {
   "cell_type": "code",
   "execution_count": null,
   "metadata": {},
   "outputs": [],
   "source": []
  },
  {
   "cell_type": "code",
   "execution_count": 38,
   "metadata": {},
   "outputs": [
    {
     "data": {
      "text/plain": [
       "[0, 1, 1, 2, 3, 5, 8, 13, 21, 34, 55, 89, 144, 233, 377]"
      ]
     },
     "execution_count": 38,
     "metadata": {},
     "output_type": "execute_result"
    }
   ],
   "source": [
    "#fibonacci Series\n",
    "f= [tf.constant(0), tf.constant(1)]\n",
    "with tf.Session() as s:\n",
    "    for i in range(2,15):\n",
    "        temp = f[i-2]+f[i-1]\n",
    "        f.append(temp)\n",
    "s.run(f)"
   ]
  }
 ],
 "metadata": {
  "kernelspec": {
   "display_name": "Python 2",
   "language": "python",
   "name": "python2"
  },
  "language_info": {
   "codemirror_mode": {
    "name": "ipython",
    "version": 2
   },
   "file_extension": ".py",
   "mimetype": "text/x-python",
   "name": "python",
   "nbconvert_exporter": "python",
   "pygments_lexer": "ipython2",
   "version": "2.7.13"
  }
 },
 "nbformat": 4,
 "nbformat_minor": 2
}
