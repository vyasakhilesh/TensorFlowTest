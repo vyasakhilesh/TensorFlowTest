{
 "cells": [
  {
   "cell_type": "code",
   "execution_count": 1,
   "metadata": {},
   "outputs": [],
   "source": [
    "import tensorflow as tf\n",
    "import numpy as np\n",
    "import pandas as pd\n",
    "import matplotlib.pyplot as plt"
   ]
  },
  {
   "cell_type": "code",
   "execution_count": 2,
   "metadata": {},
   "outputs": [
    {
     "data": {
      "text/html": [
       "<div>\n",
       "<style scoped>\n",
       "    .dataframe tbody tr th:only-of-type {\n",
       "        vertical-align: middle;\n",
       "    }\n",
       "\n",
       "    .dataframe tbody tr th {\n",
       "        vertical-align: top;\n",
       "    }\n",
       "\n",
       "    .dataframe thead th {\n",
       "        text-align: right;\n",
       "    }\n",
       "</style>\n",
       "<table border=\"1\" class=\"dataframe\">\n",
       "  <thead>\n",
       "    <tr style=\"text-align: right;\">\n",
       "      <th></th>\n",
       "      <th>Chirps</th>\n",
       "      <th>Temp</th>\n",
       "    </tr>\n",
       "  </thead>\n",
       "  <tbody>\n",
       "    <tr>\n",
       "      <th>0</th>\n",
       "      <td>20.0</td>\n",
       "      <td>88.6</td>\n",
       "    </tr>\n",
       "    <tr>\n",
       "      <th>1</th>\n",
       "      <td>16.0</td>\n",
       "      <td>71.6</td>\n",
       "    </tr>\n",
       "    <tr>\n",
       "      <th>2</th>\n",
       "      <td>19.8</td>\n",
       "      <td>93.3</td>\n",
       "    </tr>\n",
       "    <tr>\n",
       "      <th>3</th>\n",
       "      <td>18.4</td>\n",
       "      <td>84.3</td>\n",
       "    </tr>\n",
       "    <tr>\n",
       "      <th>4</th>\n",
       "      <td>17.1</td>\n",
       "      <td>80.6</td>\n",
       "    </tr>\n",
       "  </tbody>\n",
       "</table>\n",
       "</div>"
      ],
      "text/plain": [
       "   Chirps  Temp\n",
       "0    20.0  88.6\n",
       "1    16.0  71.6\n",
       "2    19.8  93.3\n",
       "3    18.4  84.3\n",
       "4    17.1  80.6"
      ]
     },
     "execution_count": 2,
     "metadata": {},
     "output_type": "execute_result"
    }
   ],
   "source": [
    "#downloading dataset\n",
    "#!wget -nv -O /resources/data/PierceCricketData.csv https://ibm.box.com/shared/static/reyjo1hk43m2x79nreywwfwcdd5yi8zu.csv\n",
    "\n",
    "\n",
    "df = pd.read_csv(\"PierceCricketData.csv\")\n",
    "df.head()"
   ]
  },
  {
   "cell_type": "code",
   "execution_count": 3,
   "metadata": {},
   "outputs": [],
   "source": [
    "x_data = df['Chirps'].values\n",
    "y_data = df['Temp'].values"
   ]
  },
  {
   "cell_type": "code",
   "execution_count": 4,
   "metadata": {},
   "outputs": [
    {
     "data": {
      "text/plain": [
       "array([ 20. ,  16. ,  19.8,  18.4,  17.1,  15.5,  14.7,  17.1,  15.4,\n",
       "        16.2,  15. ,  17.2,  16. ,  17. ,  14.1])"
      ]
     },
     "execution_count": 4,
     "metadata": {},
     "output_type": "execute_result"
    }
   ],
   "source": [
    "x_data"
   ]
  },
  {
   "cell_type": "code",
   "execution_count": 5,
   "metadata": {},
   "outputs": [
    {
     "data": {
      "text/plain": [
       "array([ 88.6,  71.6,  93.3,  84.3,  80.6,  75.2,  69.7,  82. ,  69.4,\n",
       "        83.3,  78.6,  82.6,  80.6,  83.5,  76.3])"
      ]
     },
     "execution_count": 5,
     "metadata": {},
     "output_type": "execute_result"
    }
   ],
   "source": [
    "y_data"
   ]
  },
  {
   "cell_type": "code",
   "execution_count": 6,
   "metadata": {},
   "outputs": [
    {
     "data": {
      "image/png": "[encoded data removed]",
      "text/plain": [
       "<matplotlib.figure.Figure at 0x7fd1bba63290>"
      ]
     },
     "metadata": {},
     "output_type": "display_data"
    }
   ],
   "source": [
    "plt.plot(x_data, y_data, 'ro')\n",
    "plt.xlabel(\"# Chirps per 15 sec\")\n",
    "plt.ylabel(\"Temp in Farenhiet\")\n",
    "plt.show()"
   ]
  },
  {
   "cell_type": "code",
   "execution_count": 7,
   "metadata": {},
   "outputs": [
    {
     "name": "stdout",
     "output_type": "stream",
     "text": [
      "(15, 1) (15, 1) 15\n"
     ]
    }
   ],
   "source": [
    "x = tf.placeholder(dtype=tf.float32, shape=(x_data.size,1 ))\n",
    "y = tf.placeholder(dtype=tf.float32, shape=(y_data.size, 1))\n",
    "print x.shape, y.shape, x.shape[0] "
   ]
  },
  {
   "cell_type": "code",
   "execution_count": 8,
   "metadata": {},
   "outputs": [
    {
     "name": "stdout",
     "output_type": "stream",
     "text": [
      "(15, 1)\n"
     ]
    }
   ],
   "source": [
    "w = tf.Variable(3.0) #np.random.rand(x_data.shape[0], 1)\n",
    "b = tf.Variable(2.0)\n",
    "ypred = tf.add(tf.multiply(x,w), b)\n",
    "print ypred.shape"
   ]
  },
  {
   "cell_type": "code",
   "execution_count": 9,
   "metadata": {},
   "outputs": [],
   "source": [
    "nf = 1e-1\n",
    "# seting up the loss function\n",
    "loss = tf.reduce_mean(tf.square(ypred-y))\n",
    "#loss = tf.reduce_mean(tf.squared_difference(y*nf, ypred*nf))\n",
    "optimizer = tf.train.GradientDescentOptimizer(learning_rate=0.01)\n",
    "train = optimizer.minimize(loss)\n"
   ]
  },
  {
   "cell_type": "code",
   "execution_count": 10,
   "metadata": {},
   "outputs": [
    {
     "name": "stdout",
     "output_type": "stream",
     "text": [
      "[[ 20. ]\n",
      " [ 16. ]\n",
      " [ 19.8]\n",
      " [ 18.4]\n",
      " [ 17.1]\n",
      " [ 15.5]\n",
      " [ 14.7]\n",
      " [ 17.1]\n",
      " [ 15.4]\n",
      " [ 16.2]\n",
      " [ 15. ]\n",
      " [ 17.2]\n",
      " [ 16. ]\n",
      " [ 17. ]\n",
      " [ 14.1]]\n"
     ]
    }
   ],
   "source": [
    "xt = np.reshape(x_data, (-1, 1))\n",
    "yt = np.reshape(y_data, (-1, 1))\n",
    "print xt"
   ]
  },
  {
   "cell_type": "code",
   "execution_count": 19,
   "metadata": {},
   "outputs": [],
   "source": [
    "steps = {}\n",
    "steps['m'] = []\n",
    "steps['b'] = []\n",
    "losses=[]\n",
    "with tf.Session() as s:\n",
    "    s.run(tf.global_variables_initializer())\n",
    "    for k in range(20):\n",
    "            t,w_,b_,l = s.run([train,w, b,loss], feed_dict={x:xt, y:yt})\n",
    "            steps['m'].append(w_)\n",
    "            steps['b'].append(b_)\n",
    "            losses.append(l)\n",
    "    "
   ]
  },
  {
   "cell_type": "code",
   "execution_count": 20,
   "metadata": {},
   "outputs": [],
   "source": [
    "#yf =np.reshape(yp, -1,0)"
   ]
  },
  {
   "cell_type": "code",
   "execution_count": 21,
   "metadata": {},
   "outputs": [
    {
     "data": {
      "image/png": "[encoded data removed]",
      "text/plain": [
       "<matplotlib.figure.Figure at 0x7fd1b808f150>"
      ]
     },
     "metadata": {},
     "output_type": "display_data"
    }
   ],
   "source": [
    "#plt.plot(x_data, yf,'ro')\n",
    "#plt.show()\n",
    "plt.plot(losses[:])\n",
    "plt.show()"
   ]
  },
  {
   "cell_type": "code",
   "execution_count": 22,
   "metadata": {},
   "outputs": [
    {
     "name": "stdout",
     "output_type": "stream",
     "text": [
      "[800.92462, 16643.061, 353197.19, 7503032.5, 1.5939582e+08, 3.3862428e+09, 7.1938146e+10, 1.5282716e+12, 3.2466969e+13, 6.8973598e+14, 1.4652912e+16, 3.1128992e+17, 6.6131166e+18, 1.4049063e+20, 2.9846171e+21, 6.3405927e+22, 1.3470105e+24, 2.861621e+25, 6.0792953e+26, 1.2915003e+28]\n"
     ]
    }
   ],
   "source": [
    "print losses"
   ]
  },
  {
   "cell_type": "code",
   "execution_count": null,
   "metadata": {},
   "outputs": [],
   "source": []
  }
 ],
 "metadata": {
  "kernelspec": {
   "display_name": "Python 2",
   "language": "python",
   "name": "python2"
  },
  "language_info": {
   "codemirror_mode": {
    "name": "ipython",
    "version": 2
   },
   "file_extension": ".py",
   "mimetype": "text/x-python",
   "name": "python",
   "nbconvert_exporter": "python",
   "pygments_lexer": "ipython2",
   "version": "2.7.13"
  }
 },
 "nbformat": 4,
 "nbformat_minor": 2
}
